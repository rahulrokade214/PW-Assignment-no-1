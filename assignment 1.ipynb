{
 "cells": [
  {
   "cell_type": "markdown",
   "id": "d1974d55-4961-406f-9bc3-cbf2228ed1c9",
   "metadata": {},
   "source": [
    "### Q1. Create one variable containing following type of data:"
   ]
  },
  {
   "cell_type": "code",
   "execution_count": null,
   "id": "7ee7d42b-c7d7-4fa5-93a8-783fbb538408",
   "metadata": {},
   "outputs": [],
   "source": [
    "Ans\n",
    "a = \"pwskills\"                            # string\n",
    "b = [\"pwskills\",3,1,3.4,[1,2,3],(4,6,6)]  # list\n",
    "c = 4.01                                  # float\n",
    "d = (\"rahul\",1,2,3,2.05,[2,1,46,])        # tuple"
   ]
  },
  {
   "cell_type": "markdown",
   "id": "171f6f24-05af-4d0d-be91-d08a8fd96fff",
   "metadata": {},
   "source": [
    "### Q2. Given are some following variables containing data:"
   ]
  },
  {
   "cell_type": "code",
   "execution_count": null,
   "id": "36c15b0d-6ca6-4f92-8056-ecf14bddbd67",
   "metadata": {},
   "outputs": [],
   "source": [
    "Ans\n",
    "(i) var1 = ‘ ‘                            =>\n",
    "(ii) var2 = ‘[ DS , ML , Python]’         => \n",
    "(iii) var3 = [ ‘DS’ , ’ML’ , ‘Python’ ]   => list\n",
    "(iv) var4 = 1.                            =>int"
   ]
  },
  {
   "cell_type": "markdown",
   "id": "4dad121f-a783-4676-9f4f-ad3bdf7383cb",
   "metadata": {},
   "source": [
    "### Q3.Explain the use of the following operators using an example:"
   ]
  },
  {
   "cell_type": "code",
   "execution_count": null,
   "id": "0f27d3d6-c42a-45e6-b329-b3a38f5884c7",
   "metadata": {},
   "outputs": [],
   "source": [
    "Ans\n",
    "(i) /\n",
    "(ii) %\n",
    "(iii) //\n",
    "(iv) **"
   ]
  },
  {
   "cell_type": "markdown",
   "id": "57758250-c184-49da-94b1-fdc297e2579b",
   "metadata": {},
   "source": [
    "### Q4. Create a list of length 10 of your choice containing multiple types of data. Using for loop print the element and its data type."
   ]
  },
  {
   "cell_type": "code",
   "execution_count": 3,
   "id": "256b815d-ac48-422e-944d-086d5b7233a7",
   "metadata": {},
   "outputs": [
    {
     "name": "stdout",
     "output_type": "stream",
     "text": [
      "10\n"
     ]
    }
   ],
   "source": [
    "#Ans\n",
    "a = [1,2,3,4,5,6,7,8,9,0]\n",
    "print(len(a))"
   ]
  },
  {
   "cell_type": "markdown",
   "id": "ac03a5b0-91ab-4b71-b7bf-7252314b9403",
   "metadata": {},
   "source": [
    "### Q5.Using a while loop, verify if the number A is purely divisible by number B and if so then how many times it can be divisible."
   ]
  },
  {
   "cell_type": "markdown",
   "id": "f46918f7-f648-4e77-9aba-a583b0e0e9cc",
   "metadata": {},
   "source": [
    "=> Ths question is not under stand"
   ]
  },
  {
   "cell_type": "markdown",
   "id": "28f11cae-a212-4118-95cf-85d4196d865e",
   "metadata": {},
   "source": [
    "### Q7. What do you understand about mutable and immutable data types? Give examples for both showing this property."
   ]
  },
  {
   "cell_type": "markdown",
   "id": "e35c4d31-8f5c-4734-b3fb-bc210e178523",
   "metadata": {},
   "source": [
    "#### => 1) Mutable data type is \"List\"}\n",
    "#### => 2) Immutable data type is \"tring\""
   ]
  },
  {
   "cell_type": "code",
   "execution_count": 31,
   "id": "0de949e5-031c-49c5-ae5d-677fc315efc2",
   "metadata": {},
   "outputs": [],
   "source": [
    "#property\n",
    "a=\"pwskills\""
   ]
  },
  {
   "cell_type": "code",
   "execution_count": 32,
   "id": "2728a209-eb30-4a4e-b591-7c4a31039fbe",
   "metadata": {},
   "outputs": [
    {
     "data": {
      "text/plain": [
       "'sllikswp'"
      ]
     },
     "execution_count": 32,
     "metadata": {},
     "output_type": "execute_result"
    }
   ],
   "source": [
    "a[::-1]"
   ]
  },
  {
   "cell_type": "code",
   "execution_count": 33,
   "id": "e8227769-f7ea-40b5-a6fc-d5e99d8667d0",
   "metadata": {},
   "outputs": [
    {
     "data": {
      "text/plain": [
       "'psil'"
      ]
     },
     "execution_count": 33,
     "metadata": {},
     "output_type": "execute_result"
    }
   ],
   "source": [
    "a[0:8:2]"
   ]
  },
  {
   "cell_type": "code",
   "execution_count": 34,
   "id": "60c06a09-f0c6-4165-8574-911f5ba979cf",
   "metadata": {},
   "outputs": [
    {
     "data": {
      "text/plain": [
       "'pkl'"
      ]
     },
     "execution_count": 34,
     "metadata": {},
     "output_type": "execute_result"
    }
   ],
   "source": [
    "a[0:9:3]"
   ]
  },
  {
   "cell_type": "code",
   "execution_count": 37,
   "id": "ac285771-0129-436e-8fb8-b3c9cb6aea40",
   "metadata": {},
   "outputs": [
    {
     "data": {
      "text/plain": [
       "'pwskills'"
      ]
     },
     "execution_count": 37,
     "metadata": {},
     "output_type": "execute_result"
    }
   ],
   "source": [
    "a"
   ]
  },
  {
   "cell_type": "code",
   "execution_count": null,
   "id": "e16b4595-34ab-429e-a4fd-fd898ca58205",
   "metadata": {},
   "outputs": [],
   "source": [
    "#property\n",
    "b = [1,2,3,4,5,6]"
   ]
  },
  {
   "cell_type": "code",
   "execution_count": 35,
   "id": "0a2e1be7-f922-4bf3-8071-e530776318cb",
   "metadata": {},
   "outputs": [
    {
     "data": {
      "text/plain": [
       "[6, 5, 4, 3, 2, 1]"
      ]
     },
     "execution_count": 35,
     "metadata": {},
     "output_type": "execute_result"
    }
   ],
   "source": [
    "b[::-1]"
   ]
  },
  {
   "cell_type": "code",
   "execution_count": 38,
   "id": "95b0a075-fcbb-4b9f-9381-9a53367485c4",
   "metadata": {},
   "outputs": [
    {
     "data": {
      "text/plain": [
       "[1, 3, 5]"
      ]
     },
     "execution_count": 38,
     "metadata": {},
     "output_type": "execute_result"
    }
   ],
   "source": [
    "b[0:9:2]"
   ]
  },
  {
   "cell_type": "code",
   "execution_count": 39,
   "id": "b59818fb-5677-43d9-b1c8-36f842f5835d",
   "metadata": {},
   "outputs": [
    {
     "data": {
      "text/plain": [
       "[1, 4]"
      ]
     },
     "execution_count": 39,
     "metadata": {},
     "output_type": "execute_result"
    }
   ],
   "source": [
    "b[0:9:3]"
   ]
  },
  {
   "cell_type": "code",
   "execution_count": null,
   "id": "650a55d7-b931-40cf-89f1-c5e72392fb2f",
   "metadata": {},
   "outputs": [],
   "source": []
  }
 ],
 "metadata": {
  "kernelspec": {
   "display_name": "Python 3 (ipykernel)",
   "language": "python",
   "name": "python3"
  },
  "language_info": {
   "codemirror_mode": {
    "name": "ipython",
    "version": 3
   },
   "file_extension": ".py",
   "mimetype": "text/x-python",
   "name": "python",
   "nbconvert_exporter": "python",
   "pygments_lexer": "ipython3",
   "version": "3.10.8"
  }
 },
 "nbformat": 4,
 "nbformat_minor": 5
}
